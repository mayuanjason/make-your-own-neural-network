{
 "cells": [
  {
   "cell_type": "code",
   "execution_count": 11,
   "metadata": {},
   "outputs": [],
   "source": [
    "import numpy as np\n",
    "\n",
    "# scipy.special for the sigmoid function expit()\n",
    "from scipy.special import expit\n",
    "\n",
    "import matplotlib.pyplot as plt\n",
    "from matplotlib.ticker import MultipleLocator\n",
    "%matplotlib inline"
   ]
  },
  {
   "cell_type": "code",
   "execution_count": 12,
   "metadata": {},
   "outputs": [],
   "source": [
    "# helper to load data from PNG image files\n",
    "import scipy.misc\n",
    "\n",
    "# glob helps select multiple files using patterns\n",
    "import glob"
   ]
  },
  {
   "cell_type": "code",
   "execution_count": 13,
   "metadata": {},
   "outputs": [],
   "source": [
    "np.random.seed(42)"
   ]
  },
  {
   "cell_type": "code",
   "execution_count": 14,
   "metadata": {},
   "outputs": [],
   "source": [
    "# neural network class definition\n",
    "class NeuralNetwork:\n",
    "    \n",
    "    # initialize the neural network\n",
    "    def __init__(self, input_nodes, hidden_nodes, output_nodes, learning_rate):\n",
    "        # set number of nodes in each input, hidden, output layer\n",
    "        self.inodes = input_nodes\n",
    "        self.hnodes = hidden_nodes\n",
    "        self.onodes = output_nodes\n",
    "        \n",
    "        # learning rate\n",
    "        self.lr = learning_rate\n",
    "        \n",
    "        # link weight matrices, wih(Weight for input_hidden) and who(Weight for hidden_output)\n",
    "        # weight inside the arrays are w_i_j, where link is from node i to node j in the next layer\n",
    "        # w11 w21\n",
    "        # w12 w22 etc\n",
    "        self.wih = np.random.normal(0.0, pow(self.inodes, -0.5), (self.hnodes, self.inodes))  # hnodes x inodes matrix\n",
    "        self.who = np.random.normal(0.0, pow(self.hnodes, -0.5), (self.onodes, self.hnodes))  # onodes x hnodes matrix\n",
    "        \n",
    "        # activation function is the sigmoid function\n",
    "        self.activation_function = lambda x: expit(x)\n",
    "        \n",
    "    # train the neural network\n",
    "    def train(self, inputs_list, targets_list):\n",
    "        # convert inputs list to 2d array\n",
    "        inputs = np.array(inputs_list, ndmin=2).T   # inodes x 1 vector\n",
    "        targets = np.array(targets_list, ndmin=2).T\n",
    "        \n",
    "        # calculate signals into hidden layer\n",
    "        # X_hidden = W_input_hidden * I\n",
    "        hidden_inputs = np.dot(self.wih, inputs)\n",
    "        \n",
    "        # calculate the signals emerging from hidden layer\n",
    "        # O_hidden = sigmoid(X_hidden)\n",
    "        hidden_outputs = self.activation_function(hidden_inputs)\n",
    "        \n",
    "        # calculate signals into final ouput layer\n",
    "        # X_output = W_hidden_output * O_hidden\n",
    "        final_inputs = np.dot(self.who, hidden_outputs)\n",
    "        \n",
    "        # calculate the signals emerging from final output layer\n",
    "        # O_output = sigmoid(X_output)\n",
    "        final_outputs = self.activation_function(final_inputs)\n",
    "        \n",
    "        # output layer error is the (target - actual)\n",
    "        output_errors = targets - final_outputs\n",
    "        \n",
    "        # hidden layer error is the output_errors, split by weights, recombined at hidden nodes\n",
    "        hidden_errors = np.dot(self.who.T, output_errors)\n",
    "        \n",
    "        # update the weight for the links between the hidden and output layers\n",
    "        self.who += self.lr * np.dot((output_errors * final_outputs * (1.0 - final_outputs)), np.transpose(hidden_outputs))\n",
    "        \n",
    "        # update the weight for the links between the input and hidden layers\n",
    "        self.wih += self.lr * np.dot((hidden_errors * hidden_outputs * (1.0 - hidden_outputs)), np.transpose(inputs))\n",
    "        \n",
    "    # query the neural network\n",
    "    def query(self, inputs_list):\n",
    "        # convert inputs list to 2d array\n",
    "        inputs = np.array(inputs_list, ndmin=2).T   # inodes x 1 vector\n",
    "        \n",
    "        # calculate signals into hidden layer\n",
    "        # X_hidden = W_input_hidden * I\n",
    "        hidden_inputs = np.dot(self.wih, inputs)\n",
    "        \n",
    "        # calculate the signals emerging from hidden layer\n",
    "        # O_hidden = sigmoid(X_hidden)\n",
    "        hidden_outputs = self.activation_function(hidden_inputs)\n",
    "        \n",
    "        # calculate signals into final ouput layer\n",
    "        # X_output = W_hidden_output * O_hidden\n",
    "        final_inputs = np.dot(self.who, hidden_outputs)\n",
    "        \n",
    "        # calculate the signals emerging from final output layer\n",
    "        # O_output = sigmoid(X_output)\n",
    "        final_outputs = self.activation_function(final_inputs)\n",
    "        \n",
    "        return final_outputs"
   ]
  },
  {
   "cell_type": "code",
   "execution_count": 15,
   "metadata": {},
   "outputs": [],
   "source": [
    "# number of input, hidden and output nodes\n",
    "input_nodes = 784\n",
    "hidden_nodes = 200\n",
    "output_nodes = 10\n",
    "\n",
    "# learning rate\n",
    "learning_rate = 0.1\n",
    "\n",
    "# create instance of neural network\n",
    "n = NeuralNetwork(input_nodes, hidden_nodes, output_nodes, learning_rate)"
   ]
  },
  {
   "cell_type": "code",
   "execution_count": 16,
   "metadata": {},
   "outputs": [],
   "source": [
    "# load the mnist training data csv file into a list\n",
    "with open('mnist_dataset/mnist_train.csv') as fobj:\n",
    "    training_data_list = fobj.readlines()"
   ]
  },
  {
   "cell_type": "code",
   "execution_count": 17,
   "metadata": {},
   "outputs": [],
   "source": [
    "# train the neural network\n",
    "\n",
    "# epochs is the number of times the training data set is used for training\n",
    "epochs = 5\n",
    "\n",
    "for e in range(epochs):\n",
    "    # go through all records in the training data set\n",
    "    for record in training_data_list:\n",
    "        # split the record by the ',' commas\n",
    "        all_values = record.split(',')\n",
    "\n",
    "        # scale and shift the inputs [0.01, 1]\n",
    "        inputs = (np.asfarray(all_values[1:]) / 255.0 * 0.99) + 0.01\n",
    "\n",
    "        # create the target output values (all 0.01, except the desired label which is 0.99)\n",
    "        targets = np.zeros(output_nodes) + 0.01\n",
    "\n",
    "        # all_values[0] is the target label for this record\n",
    "        targets[int(all_values[0])] = 0.99\n",
    "\n",
    "        # train the neural network\n",
    "        n.train(inputs, targets)    "
   ]
  },
  {
   "cell_type": "code",
   "execution_count": 34,
   "metadata": {},
   "outputs": [
    {
     "name": "stdout",
     "output_type": "stream",
     "text": [
      "loading ...  my_own_images\\2828_my_own_2.png\n",
      "loading ...  my_own_images\\2828_my_own_3.png\n",
      "loading ...  my_own_images\\2828_my_own_4.png\n",
      "loading ...  my_own_images\\2828_my_own_5.png\n",
      "loading ...  my_own_images\\2828_my_own_6.png\n"
     ]
    },
    {
     "name": "stderr",
     "output_type": "stream",
     "text": [
      "C:\\Users\\yuanm\\AppData\\Local\\Continuum\\anaconda3\\lib\\site-packages\\ipykernel_launcher.py:12: DeprecationWarning: `imread` is deprecated!\n",
      "`imread` is deprecated in SciPy 1.0.0, and will be removed in 1.2.0.\n",
      "Use ``imageio.imread`` instead.\n",
      "  if sys.path[0] == '':\n"
     ]
    }
   ],
   "source": [
    "# our own image test data set\n",
    "our_own_dataset = []\n",
    "\n",
    "# load the png image data as test data set\n",
    "for image_file_name in glob.glob('my_own_images/2828_my_own_?.png'):\n",
    "    print(\"loading ... \", image_file_name)\n",
    "    \n",
    "    # use the filename to set the correct label\n",
    "    label = int(image_file_name[-5:-4])\n",
    "    \n",
    "    # load image data from png files into an array\n",
    "    img_array = scipy.misc.imread(image_file_name, flatten=True)\n",
    "    \n",
    "    # reshape from 28x28 to list of 784 values, invert values\n",
    "    img_data = 255.0 - img_array.reshape(784)\n",
    "    \n",
    "    # then scale data to range [0.01, 1.0]\n",
    "    img_data = (img_data / 255.0 * 0.99) + 0.01\n",
    "    \n",
    "    # append label and image data to test data set\n",
    "    record = np.append(label, img_data)\n",
    "    \n",
    "    our_own_dataset.append(record)"
   ]
  },
  {
   "cell_type": "code",
   "execution_count": 35,
   "metadata": {},
   "outputs": [],
   "source": [
    "# test the neural network with our own images\n",
    "def test(item):\n",
    "    # plot image\n",
    "    plt.imshow(our_own_dataset[item][1:].reshape((28, 28)), cmap='Greys', interpolation='None')\n",
    "\n",
    "    # correct answer is first value\n",
    "    correct_label = our_own_dataset[item][0]\n",
    "\n",
    "    # data is remaining values\n",
    "    inputs = our_own_dataset[item][1:]\n",
    "\n",
    "    # query the network\n",
    "    outputs = n.query(inputs)\n",
    "    print(outputs)\n",
    "\n",
    "    # the index of the highest value corresponds to the label\n",
    "    label = np.argmax(outputs)\n",
    "    print(\"network say \", label)\n",
    "\n",
    "    # append correct or incorrect to list\n",
    "    if (label == correct_label):\n",
    "        print(\"match!\")\n",
    "    else:\n",
    "        print(\"no match!\")"
   ]
  },
  {
   "cell_type": "code",
   "execution_count": 36,
   "metadata": {},
   "outputs": [
    {
     "name": "stdout",
     "output_type": "stream",
     "text": [
      "[[3.27797417e-03]\n",
      " [6.37289342e-03]\n",
      " [7.53418299e-01]\n",
      " [1.15119396e-02]\n",
      " [1.10294581e-02]\n",
      " [1.00148704e-02]\n",
      " [6.91892333e-05]\n",
      " [2.16198550e-02]\n",
      " [2.23462602e-04]\n",
      " [6.90258346e-03]]\n",
      "network say  2\n",
      "match!\n"
     ]
    },
    {
     "data": {
      "image/png": "[encoded data removed]",
      "text/plain": [
       "<matplotlib.figure.Figure at 0x191fce48>"
      ]
     },
     "metadata": {},
     "output_type": "display_data"
    }
   ],
   "source": [
    "test(0)"
   ]
  },
  {
   "cell_type": "code",
   "execution_count": 37,
   "metadata": {},
   "outputs": [
    {
     "name": "stdout",
     "output_type": "stream",
     "text": [
      "[[3.22390819e-03]\n",
      " [1.29912305e-02]\n",
      " [4.76694264e-03]\n",
      " [8.43212126e-01]\n",
      " [1.09652951e-03]\n",
      " [9.21263745e-02]\n",
      " [3.00241564e-03]\n",
      " [3.74312817e-03]\n",
      " [5.57076344e-04]\n",
      " [1.55479089e-03]]\n",
      "network say  3\n",
      "match!\n"
     ]
    },
    {
     "data": {
      "image/png": "[encoded data removed]",
      "text/plain": [
       "<matplotlib.figure.Figure at 0x191eaac8>"
      ]
     },
     "metadata": {},
     "output_type": "display_data"
    }
   ],
   "source": [
    "test(1)"
   ]
  },
  {
   "cell_type": "code",
   "execution_count": 38,
   "metadata": {},
   "outputs": [
    {
     "name": "stdout",
     "output_type": "stream",
     "text": [
      "[[3.61619418e-04]\n",
      " [4.43464708e-03]\n",
      " [2.09644637e-02]\n",
      " [2.88093614e-04]\n",
      " [8.35830638e-01]\n",
      " [2.18613566e-02]\n",
      " [4.02938982e-02]\n",
      " [1.39132439e-02]\n",
      " [1.20503757e-04]\n",
      " [1.30433961e-03]]\n",
      "network say  4\n",
      "match!\n"
     ]
    },
    {
     "data": {
      "image/png": "[encoded data removed]",
      "text/plain": [
       "<matplotlib.figure.Figure at 0x191d0e80>"
      ]
     },
     "metadata": {},
     "output_type": "display_data"
    }
   ],
   "source": [
    "test(2)"
   ]
  },
  {
   "cell_type": "code",
   "execution_count": 39,
   "metadata": {},
   "outputs": [
    {
     "name": "stdout",
     "output_type": "stream",
     "text": [
      "[[1.07722062e-03]\n",
      " [6.92215658e-04]\n",
      " [8.04446131e-04]\n",
      " [2.79747107e-02]\n",
      " [3.50849293e-04]\n",
      " [9.73933090e-01]\n",
      " [4.75619344e-03]\n",
      " [8.02017558e-03]\n",
      " [6.06862278e-04]\n",
      " [5.32054478e-03]]\n",
      "network say  5\n",
      "match!\n"
     ]
    },
    {
     "data": {
      "image/png": "[encoded data removed]",
      "text/plain": [
       "<matplotlib.figure.Figure at 0x99aa438>"
      ]
     },
     "metadata": {},
     "output_type": "display_data"
    }
   ],
   "source": [
    "test(3)"
   ]
  },
  {
   "cell_type": "code",
   "execution_count": 40,
   "metadata": {},
   "outputs": [
    {
     "name": "stdout",
     "output_type": "stream",
     "text": [
      "[[0.1989342 ]\n",
      " [0.11215461]\n",
      " [0.12854807]\n",
      " [0.11394589]\n",
      " [0.04109289]\n",
      " [0.27988069]\n",
      " [0.41279367]\n",
      " [0.04230193]\n",
      " [0.15928328]\n",
      " [0.31302947]]\n",
      "network say  6\n",
      "match!\n"
     ]
    },
    {
     "data": {
      "image/png": "[encoded data removed]",
      "text/plain": [
       "<matplotlib.figure.Figure at 0x18824cc0>"
      ]
     },
     "metadata": {},
     "output_type": "display_data"
    }
   ],
   "source": [
    "test(4)"
   ]
  },
  {
   "cell_type": "code",
   "execution_count": null,
   "metadata": {},
   "outputs": [],
   "source": []
  }
 ],
 "metadata": {
  "kernelspec": {
   "display_name": "Python 3",
   "language": "python",
   "name": "python3"
  },
  "language_info": {
   "codemirror_mode": {
    "name": "ipython",
    "version": 3
   },
   "file_extension": ".py",
   "mimetype": "text/x-python",
   "name": "python",
   "nbconvert_exporter": "python",
   "pygments_lexer": "ipython3",
   "version": "3.6.4"
  }
 },
 "nbformat": 4,
 "nbformat_minor": 2
}
